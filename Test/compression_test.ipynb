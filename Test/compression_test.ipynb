{
 "cells": [
  {
   "cell_type": "code",
   "execution_count": 8,
   "metadata": {},
   "outputs": [],
   "source": [
    "import requests\n",
    "import brotli\n",
    "import blosc2"
   ]
  },
  {
   "cell_type": "code",
   "execution_count": 9,
   "metadata": {},
   "outputs": [],
   "source": [
    "urls = [\n",
    "    'https://www.google.com/search?q=python+write+binary+file&rlz=1C1RXQR_enUS1046US1047&oq=python+write+binary+file&gs_lcrp=EgZjaHJvbWUqDQgAEAAYkQIYgAQYigUyDQgAEAAYkQIYgAQYigUyBwgBEAAYgAQyBwgCEAAYgAQyBwgDEAAYgAQyBwgEEAAYgAQyBwgFEAAYgAQyDAgGEAAYFBiHAhiABDIHCAcQABiABDIKCAgQABiABBiiBDIKCAkQABiiBBiJBdIBCDM5OTdqMGo3qAIIsAIB&sourceid=chrome&ie=UTF-8',\n",
    "    'https://www.google.com/search?q=python+convert+bytes+to+integer&sca_esv=14326ad52f25564e&rlz=1C1RXQR_enUS1046US1047&sxsrf=ADLYWII0nhRo4jWcfQeWq--SGImD2LWDWQ%3A1734064243331&ei=c7hbZ9XtE7TJp84Pqo7V2Ak&ved=0ahUKEwiV8_bZ9KOKAxW05MkDHSpHFZsQ4dUDCBA&uact=5&oq=python+convert+bytes+to+integer&gs_lp=Egxnd3Mtd2l6LXNlcnAiH3B5dGhvbiBjb252ZXJ0IGJ5dGVzIHRvIGludGVnZXIyCxAAGIAEGJECGIoFMgYQABgWGB4yBhAAGBYYHjIGEAAYFhgeMgYQABgWGB4yBhAAGBYYHjIGEAAYFhgeMgYQABgWGB4yBhAAGBYYHjIGEAAYFhgeSP5KUMExWMJKcAR4AZABAJgBUqABtgeqAQIxOLgBA8gBAPgBAZgCFqAC4AfCAgoQABiwAxjWBBhHwgIFEAAYgATCAgcQABiABBgNwgIGEAAYDRgewgIIEAAYCBgNGB6YAwCIBgGQBgiSBwIyMqAH5Ho&sclient=gws-wiz-serp',\n",
    "    'https://www.geeksforgeeks.org/how-to-convert-bytes-to-int-in-python/',\n",
    "    'https://www.google.com/search?q=python+iterative+binary+search&rlz=1C1RXQR_enUS1046US1047&oq=python+iterative+binary+&gs_lcrp=EgZjaHJvbWUqBwgAEAAYgAQyBwgAEAAYgAQyBggBEEUYOTIICAIQABgWGB4yCAgDEAAYFhgeMggIBBAAGBYYHjIICAUQABgWGB4yCAgGEAAYFhgeMgYIBxBFGDzSAQg1NjQ3ajBqOagCALACAQ&sourceid=chrome&ie=UTF-8',\n",
    "    'https://www.geeksforgeeks.org/python-program-for-binary-search/',\n",
    "    'https://medium.com/@wepypixel/python-sha256-secure-hashing-implementation-pypixel-7b8434a9b244',\n",
    "    'https://stackoverflow.com/questions/48613002/sha-256-hashing-in-python',\n",
    "    'https://stackoverflow.com/questions/3755136/pythonic-way-to-check-if-a-list-is-sorted-or-not'\n",
    "]"
   ]
  },
  {
   "cell_type": "code",
   "execution_count": 10,
   "metadata": {},
   "outputs": [],
   "source": [
    "html_content = [requests.get(url).content for url in urls]"
   ]
  },
  {
   "cell_type": "code",
   "execution_count": 15,
   "metadata": {},
   "outputs": [
    {
     "name": "stdout",
     "output_type": "stream",
     "text": [
      "Original length: 94731\n",
      "Brotli length: 20123 (0.2124225438346476)\n",
      "Blosc2 length: 63888 (0.6744149222535389)\n",
      "Original length: 91809\n",
      "Brotli length: 19964 (0.21745144811510855)\n",
      "Blosc2 length: 59853 (0.6519295493905827)\n",
      "Original length: 237579\n",
      "Brotli length: 32723 (0.13773523754203865)\n",
      "Blosc2 length: 117402 (0.4941598373593626)\n",
      "Original length: 91929\n",
      "Brotli length: 19863 (0.21606892275560488)\n",
      "Blosc2 length: 61445 (0.6683962623328873)\n",
      "Original length: 329940\n",
      "Brotli length: 42233 (0.12800206098078437)\n",
      "Blosc2 length: 140532 (0.42593198763411527)\n",
      "Original length: 128781\n",
      "Brotli length: 23575 (0.18306271887933778)\n",
      "Blosc2 length: 72915 (0.5661937708202297)\n",
      "Original length: 176040\n",
      "Brotli length: 35960 (0.20427175641899567)\n",
      "Blosc2 length: 106810 (0.6067371052033629)\n",
      "Original length: 537882\n",
      "Brotli length: 56353 (0.10476833208770697)\n",
      "Blosc2 length: 234574 (0.43610680409457836)\n",
      "Brotli vs. Blosc2 (geo): 0.16974888793663362 vs. 0.5570138669471654\n",
      "Brotli vs. Blosc2 (ari): 0.1754728775767781 vs. 0.5654837798860822\n"
     ]
    }
   ],
   "source": [
    "avg_blosc2_ratio = 0\n",
    "avg_brotli_ratio = 0\n",
    "\n",
    "gavg_blosc2_ratio = 1\n",
    "gavg_brotli_ratio = 1\n",
    "\n",
    "for content in html_content:\n",
    "    original = len(content)\n",
    "    print(f'Original length: {original}')\n",
    "    bro = len(brotli.compress(content))\n",
    "    blo = len(blosc2.compress(content, _ignore_multiple_size=True))\n",
    "\n",
    "    bro_ratio = bro / original\n",
    "    blo_ratio = blo / original\n",
    "\n",
    "    print(f'Brotli length: {bro} ({bro_ratio})')\n",
    "    print(f'Blosc2 length: {blo} ({blo_ratio})')\n",
    "\n",
    "    avg_blosc2_ratio += blo_ratio\n",
    "    gavg_blosc2_ratio *= blo_ratio\n",
    "    avg_brotli_ratio += bro_ratio\n",
    "    gavg_brotli_ratio *= bro_ratio\n",
    "\n",
    "avg_blosc2_ratio /= len(html_content)\n",
    "gavg_blosc2_ratio **= (1 / len(html_content))\n",
    "avg_brotli_ratio /= len(html_content)\n",
    "gavg_brotli_ratio **= (1 / len(html_content))\n",
    "\n",
    "print(f'Brotli vs. Blosc2 (geo): {gavg_brotli_ratio} vs. {gavg_blosc2_ratio}')\n",
    "print(f'Brotli vs. Blosc2 (ari): {avg_brotli_ratio} vs. {avg_blosc2_ratio}')"
   ]
  }
 ],
 "metadata": {
  "kernelspec": {
   "display_name": ".venv",
   "language": "python",
   "name": "python3"
  },
  "language_info": {
   "codemirror_mode": {
    "name": "ipython",
    "version": 3
   },
   "file_extension": ".py",
   "mimetype": "text/x-python",
   "name": "python",
   "nbconvert_exporter": "python",
   "pygments_lexer": "ipython3",
   "version": "3.12.6"
  }
 },
 "nbformat": 4,
 "nbformat_minor": 2
}
